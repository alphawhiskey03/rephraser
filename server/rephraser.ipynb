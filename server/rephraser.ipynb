{
 "cells": [
  {
   "cell_type": "code",
   "execution_count": 2,
   "id": "10def184-e12d-4e96-aa82-5e0bbeb39be8",
   "metadata": {},
   "outputs": [
    {
     "name": "stdout",
     "output_type": "stream",
     "text": [
      "Original Text: LangChain is a powerful tool for building LLM-powered applications.\n",
      "Rephrased Text: It is imperative that immediate attention be afforded to LangChain, as it represents a groundbreaking technological paradigm that serves as a pivotal catalyst in empowering the development of cutting-edge Large Language Model (LLM)-powered applications.\n"
     ]
    }
   ],
   "source": [
    "from langchain_ollama import OllamaLLM\n",
    "from langchain.chains import LLMChain\n",
    "from langchain.prompts import PromptTemplate\n",
    "\n",
    "# Initialize the Llama model\n",
    "llm = OllamaLLM(model=\"llama3.2:3b\")\n",
    "\n",
    "\n",
    "# Define the prompt template for rephrasing\n",
    "whole_sentance_prompt_template = PromptTemplate.from_template(\n",
    "    template=\n",
    "    \"\"\"\n",
    "    Rephrase the following sentence while maintaining the same meaning. \n",
    "            The new sentence should be {sentence_length} words long.\n",
    "            Adjust the tone to be {tone}.\n",
    "            Provide only the rephrased sentence:\\n\\n{text}\\n\\n\n",
    "    \"\"\"\n",
    ")\n",
    "\n",
    "# # Create a simple chain using the prompt\n",
    "whole_sentance_rephrasing_chain = whole_sentance_prompt_template | llm\n",
    "\n",
    "# # # Example text to rephrase\n",
    "text_to_rephrase = \"LangChain is a powerful tool for building LLM-powered applications.\"\n",
    "# consise | elaborated | the same length as the original\n",
    "sentence_length = \"elaborated\"\n",
    " # Neutral| Excited | Calm | Urgent | Professional | Witty | Authoritative\n",
    "tone= \"Urgent\"\n",
    "\n",
    "# # # Run the rephrasing tool\n",
    "rephrased_text = whole_sentance_rephrasing_chain.invoke({\"text\": text_to_rephrase,\"sentence_length\": sentence_length,\"tone\":tone})\n",
    "\n",
    "print(\"Original Text:\", text_to_rephrase)\n",
    "print(\"Rephrased Text:\", rephrased_text)\n"
   ]
  },
  {
   "cell_type": "code",
   "execution_count": 3,
   "id": "56e693b0-92de-4814-942c-2e83defc665e",
   "metadata": {},
   "outputs": [
    {
     "name": "stdout",
     "output_type": "stream",
     "text": [
      "Here's the rephrased sentence:\n",
      "\n",
      "\"Act immediately, as this MessagesPlaceholder template is instrumental in orchestrating the insertion of an entire list of messages into a designated location.\"\n"
     ]
    }
   ],
   "source": [
    "# selective rephrasing\n",
    "\n",
    "selective_rephrasing_template = PromptTemplate.from_template(\n",
    "        \"\"\"\n",
    "        Rephrase the following part of the sentence while maintaining the original context\n",
    "        Full sentence: {full_sentence}\n",
    "        Part to rephrase: {part_to_rephrase}\n",
    "        Desired tone: {tone}\n",
    "        Desired length: {sentence_length}\n",
    "        Provide only the rephrased sentence\n",
    "        \"\"\"\n",
    ")\n",
    "\n",
    "full_sentence= \"MessagesPlaceholder:This prompt template is responsible for adding a list of messages in a particular place. In the above ChatPromptTemplate, we saw how we could format two messages, each one a string. But what if we wanted the user to pass in a list of messages that we would slot into a particular spot? This is how you use MessagesPlaceholder.\"\n",
    "\n",
    "part_to_rephrase=\"This prompt template is responsible for adding a list of messages in a particular place\"\n",
    "\n",
    "selective_sentence_rephrase_chain= selective_rephrasing_template | llm\n",
    "rephrased_selective_sentence = selective_sentence_rephrase_chain.invoke({\"full_sentence\":full_sentence,\"part_to_rephrase\":part_to_rephrase,\"tone\":tone, \"sentence_length\":sentence_length })\n",
    "print(rephrased_selective_sentence)"
   ]
  },
  {
   "cell_type": "code",
   "execution_count": null,
   "id": "007d3631-a64b-4943-a93e-e09d381c56ff",
   "metadata": {},
   "outputs": [],
   "source": []
  }
 ],
 "metadata": {
  "kernelspec": {
   "display_name": "AI Env",
   "language": "python",
   "name": "ai-env"
  },
  "language_info": {
   "codemirror_mode": {
    "name": "ipython",
    "version": 3
   },
   "file_extension": ".py",
   "mimetype": "text/x-python",
   "name": "python",
   "nbconvert_exporter": "python",
   "pygments_lexer": "ipython3",
   "version": "3.9.6"
  }
 },
 "nbformat": 4,
 "nbformat_minor": 5
}
